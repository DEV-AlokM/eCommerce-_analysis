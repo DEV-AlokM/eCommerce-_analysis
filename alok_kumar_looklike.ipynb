{
  "nbformat": 4,
  "nbformat_minor": 0,
  "metadata": {
    "colab": {
      "provenance": []
    },
    "kernelspec": {
      "name": "python3",
      "display_name": "Python 3"
    },
    "language_info": {
      "name": "python"
    }
  },
  "cells": [
    {
      "cell_type": "markdown",
      "source": [
        "# Task 2: Lookalike Model\n",
        "\n",
        "The goal of the lookalike model is to identify similar customers based on their profile and transaction history"
      ],
      "metadata": {
        "id": "h7V-TRgv0XkK"
      }
    },
    {
      "cell_type": "markdown",
      "source": [
        "# Step 1: Data Preprocessing"
      ],
      "metadata": {
        "id": "q0OtlWSs0lgP"
      }
    },
    {
      "cell_type": "code",
      "source": [
        "import pandas as pd\n",
        "\n",
        "customers_df = pd.read_csv('Customers.csv')\n",
        "products_df = pd.read_csv('Products.csv')\n",
        "transactions_df = pd.read_csv('Transactions.csv')\n"
      ],
      "metadata": {
        "id": "jJ4FSPZ20gvT"
      },
      "execution_count": 3,
      "outputs": []
    },
    {
      "cell_type": "markdown",
      "source": [
        "#  Cleaning Data\n",
        "\n",
        "Check for missing values, duplicate records, or invalid data (e.g., negative prices or quantities"
      ],
      "metadata": {
        "id": "c1FYtvlS0zNw"
      }
    },
    {
      "cell_type": "code",
      "source": [
        "customers_df.isnull().sum()\n",
        "products_df.isnull().sum()\n",
        "transactions_df.isnull().sum()\n",
        "\n",
        "customers_df.drop_duplicates(inplace=True)\n",
        "products_df.drop_duplicates(inplace=True)\n",
        "transactions_df.drop_duplicates(inplace=True)\n"
      ],
      "metadata": {
        "id": "jMGnWWb51OoM"
      },
      "execution_count": 4,
      "outputs": []
    },
    {
      "cell_type": "markdown",
      "source": [
        "#  Merging DataFrames\n",
        "\n",
        "Merging the datasets based on relevant keys (e.g., CustomerID, ProductID) to create a unified DataFrame that includes customer information, transaction details, and product details."
      ],
      "metadata": {
        "id": "LcaFYE-V1VLi"
      }
    },
    {
      "cell_type": "code",
      "source": [
        "merged_df = pd.merge(transactions_df, customers_df, on='CustomerID', how='left')\n",
        "merged_df = pd.merge(merged_df, products_df, on='ProductID', how='left')\n"
      ],
      "metadata": {
        "id": "qI6g5I1o1sJh"
      },
      "execution_count": 5,
      "outputs": []
    },
    {
      "cell_type": "markdown",
      "source": [
        "# step 2 : Feature Engineering\n",
        "\n",
        "To compare customers, we need to define useful features that summarize their behavior and profile. These features will be used to compute the similarity between customers."
      ],
      "metadata": {
        "id": "FW3tUdGJ2Gwq"
      }
    },
    {
      "cell_type": "markdown",
      "source": [
        " # Customer Profiling\n",
        "\n",
        "Calculating metrics such as the total value of purchases, frequency of purchases, and average transaction amount."
      ],
      "metadata": {
        "id": "RG0oFoTq2H2P"
      }
    },
    {
      "cell_type": "code",
      "source": [
        "customer_profile = merged_df.groupby('CustomerID').agg(\n",
        "    total_spent=('TotalValue', 'sum'),\n",
        "    transaction_count=('TransactionID', 'count'),\n",
        "    avg_transaction_value=('TotalValue', 'mean')\n",
        ").reset_index()\n"
      ],
      "metadata": {
        "id": "xIp0Xd402U0Q"
      },
      "execution_count": 6,
      "outputs": []
    },
    {
      "cell_type": "markdown",
      "source": [
        "# Product Preferences\n",
        "\n",
        "creating features based on the products customers buy, such as the most frequently purchased product category or total value spent on different categories.\n",
        "\n"
      ],
      "metadata": {
        "id": "M_W9x9tj2cNC"
      }
    },
    {
      "cell_type": "code",
      "source": [
        "customer_product_preference = merged_df.groupby(['CustomerID', 'Category']).agg(\n",
        "    total_spent_on_category=('TotalValue', 'sum')\n",
        ").unstack().fillna(0)\n"
      ],
      "metadata": {
        "id": "PiWdYHNi2jUQ"
      },
      "execution_count": 8,
      "outputs": []
    },
    {
      "cell_type": "markdown",
      "source": [
        "# Step 3: Calculating Similarity"
      ],
      "metadata": {
        "id": "ExOI_oPy2n76"
      }
    },
    {
      "cell_type": "markdown",
      "source": [
        "# Combining Features\n",
        "\n",
        "Combining customer profile data with product preferences data."
      ],
      "metadata": {
        "id": "WwuLTqPA2tQy"
      }
    },
    {
      "cell_type": "code",
      "source": [
        "# Rename columns to ensure they are properly labeled\n",
        "customer_product_preference.columns = ['CustomerID', 'EmptyColumn', 'Books', 'Clothing', 'Electronics', 'Home Decor']\n",
        "\n",
        "# Drop the 'EmptyColumn' as it seems unnecessary\n",
        "customer_product_preference = customer_product_preference.drop(columns=['EmptyColumn'])\n",
        "\n",
        "# Now check if columns are renamed correctly\n",
        "print(customer_product_preference.columns)\n"
      ],
      "metadata": {
        "colab": {
          "base_uri": "https://localhost:8080/"
        },
        "id": "AZZm7WZb4OIa",
        "outputId": "cc88acbc-0957-4ee6-bc3f-b51066d6ef15"
      },
      "execution_count": 16,
      "outputs": [
        {
          "output_type": "stream",
          "name": "stdout",
          "text": [
            "Index(['CustomerID', 'Books', 'Clothing', 'Electronics', 'Home Decor'], dtype='object')\n"
          ]
        }
      ]
    },
    {
      "cell_type": "code",
      "source": [
        "# Convert 'CustomerID' to string in both dataframes\n",
        "customer_profile['CustomerID'] = customer_profile['CustomerID'].astype(str)\n",
        "customer_product_preference['CustomerID'] = customer_product_preference['CustomerID'].astype(str)\n",
        "\n",
        "# Now perform the merge\n",
        "final_features = pd.merge(customer_profile, customer_product_preference, on='CustomerID')\n",
        "\n",
        "# Check the merged result\n",
        "print(final_features.head())\n"
      ],
      "metadata": {
        "colab": {
          "base_uri": "https://localhost:8080/"
        },
        "id": "KchGbEbP5Aua",
        "outputId": "42dcf384-558d-4f34-b3dc-cc90d4e8af0f"
      },
      "execution_count": 18,
      "outputs": [
        {
          "output_type": "stream",
          "name": "stdout",
          "text": [
            "Empty DataFrame\n",
            "Columns: [CustomerID, total_spent, transaction_count, avg_transaction_value, Books, Clothing, Electronics, Home Decor]\n",
            "Index: []\n"
          ]
        }
      ]
    },
    {
      "cell_type": "markdown",
      "source": [
        "# Compute Similarity\n",
        "\n",
        "Using  a similarity measure such as Cosine Similarity  to calculating the similarity between customers."
      ],
      "metadata": {
        "id": "VgCseWgJ28MA"
      }
    },
    {
      "cell_type": "code",
      "source": [
        "import pandas as pd\n",
        "from sklearn.preprocessing import StandardScaler\n",
        "from sklearn.metrics.pairwise import cosine_similarity\n",
        "\n",
        "# Load the datasets\n",
        "customers = pd.read_csv(\"Customers.csv\")\n",
        "transactions = pd.read_csv(\"Transactions.csv\")\n",
        "products = pd.read_csv(\"Products.csv\")\n",
        "\n",
        "# Step 1: Create customer profile\n",
        "customer_profile = transactions.groupby('CustomerID').agg(\n",
        "    total_spent=pd.NamedAgg(column='TotalValue', aggfunc='sum'),\n",
        "    transaction_count=pd.NamedAgg(column='TransactionID', aggfunc='count'),\n",
        "    avg_transaction_value=pd.NamedAgg(column='TotalValue', aggfunc='mean')\n",
        ").reset_index()\n",
        "\n",
        "# Step 2: Create customer product preferences\n",
        "customer_product_preference = transactions.merge(products, on='ProductID').pivot_table(\n",
        "    index='CustomerID',\n",
        "    columns='Category',\n",
        "    values='Quantity',\n",
        "    aggfunc='sum',\n",
        "    fill_value=0\n",
        ").reset_index()\n",
        "\n",
        "# Step 3: Merge customer profile with product preferences\n",
        "final_features = pd.merge(customer_profile, customer_product_preference, on='CustomerID')\n",
        "\n",
        "# Step 4: Normalize the features\n",
        "features_to_normalize = final_features.columns.difference(['CustomerID'])\n",
        "scaler = StandardScaler()\n",
        "final_features[features_to_normalize] = scaler.fit_transform(final_features[features_to_normalize])\n",
        "\n",
        "# Step 5: Compute similarity using cosine similarity\n",
        "similarity_matrix = cosine_similarity(final_features[features_to_normalize])\n",
        "similarity_df = pd.DataFrame(similarity_matrix, index=final_features['CustomerID'], columns=final_features['CustomerID'])\n",
        "\n"
      ],
      "metadata": {
        "id": "M15JSmej622p"
      },
      "execution_count": 26,
      "outputs": []
    },
    {
      "cell_type": "markdown",
      "source": [
        "# generating looklike csv for first 20 customers"
      ],
      "metadata": {
        "id": "WIRGB03f7kZY"
      }
    },
    {
      "cell_type": "code",
      "source": [
        "# Step 6: Generate Lookalike recommendations\n",
        "lookalikes = {}\n",
        "for customer_id in final_features['CustomerID'][:20]:  # Top 20 customers\n",
        "    similar_customers = similarity_df[customer_id].sort_values(ascending=False).iloc[1:4]\n",
        "    lookalikes[customer_id] = [(idx, score) for idx, score in similar_customers.items()]\n",
        "\n",
        "# Step 7: Save lookalike results to a CSV file\n",
        "lookalike_results = [\n",
        "    {\"CustomerID\": cust_id, \"Lookalikes\": str(recommendations)}\n",
        "    for cust_id, recommendations in lookalikes.items()\n",
        "]\n",
        "lookalike_df = pd.DataFrame(lookalike_results)\n",
        "lookalike_df.to_csv(\"Lookalike.csv\", index=False)\n",
        "\n",
        "print(\"Lookalike model completed. Results saved to 'Lookalike.csv'.\")\n"
      ],
      "metadata": {
        "colab": {
          "base_uri": "https://localhost:8080/"
        },
        "id": "TIT0vx3w7pgF",
        "outputId": "d919d2ea-ce28-4b28-a059-77d73fa38425"
      },
      "execution_count": 27,
      "outputs": [
        {
          "output_type": "stream",
          "name": "stdout",
          "text": [
            "Lookalike model completed. Results saved to 'Lookalike.csv'.\n"
          ]
        }
      ]
    }
  ]
}